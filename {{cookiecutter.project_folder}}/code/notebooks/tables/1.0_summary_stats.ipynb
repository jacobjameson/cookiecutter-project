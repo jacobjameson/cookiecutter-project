{
 "cells": [
  {
   "cell_type": "markdown",
   "metadata": {},
   "source": [
    "# Imports"
   ]
  },
  {
   "cell_type": "code",
   "execution_count": 1,
   "metadata": {},
   "outputs": [
    {
     "name": "stdout",
     "output_type": "stream",
     "text": [
      "Set LOG_LEVEL=\"WARNING\" before running the import file to reduce the clutter.\n",
      "Set LOG_FORMAT=\"%(levelname)s::%(message)s\" to change log format.\n",
      "IPython: 7.21.0\n",
      "Numpy (np): 1.20.3\n",
      "Scipy (sp, stats): 1.6.3\n",
      "Pandas (pd): 1.2.3\n",
      "MatPlotLib (mpl, plt): 3.4.2\n",
      "Seaborn (sns): 0.11.0\n",
      "Scikit-Learn (sk): 0.24.2\n",
      "Statsmodels (sm): 0.12.2\n",
      "Patsy (pt): 0.5.1\n",
      "SQLAlchemy (sa): 1.3.20\n",
      "Gensim: 3.8.3\n"
     ]
    }
   ],
   "source": [
    "%run ../imports.ipynb\n",
    "\n",
    "from cpn.data.sources.compustat import CompustatAnnual\n",
    "\n",
    "WRITEOUT = True"
   ]
  },
  {
   "cell_type": "code",
   "execution_count": null,
   "metadata": {},
   "outputs": [],
   "source": [
    "rename_dict = {\n",
    "    # Variable renames\n",
    "    'log_at': 'Log Total Assets',\n",
    "    'mve':'Market Value Equity',\n",
    "    # Stat renames\n",
    "    'count':'Observations', \n",
    "    'mean':'Mean', \n",
    "    'std':'Std. Dev.', \n",
    "    'min':'Min', \n",
    "    '50%':'Median', \n",
    "    'max':'Max'\n",
    "}\n",
    "describe_cols = S('count mean std 1% 25% 50% 75% 99%')\n",
    "describe_pctiles = [.01, .25, .5, .75, .99]"
   ]
  },
  {
   "cell_type": "code",
   "execution_count": null,
   "metadata": {},
   "outputs": [],
   "source": [
    "def latex_format(num_in):\n",
    "    try:\n",
    "        num_in = float(num_in)\n",
    "        num_dig = np.log10(abs(num_in)) + 1\n",
    "        if num_in == 0:\n",
    "            return \"0\"\n",
    "        if num_dig >= 3:\n",
    "            return f\"{int(num_in):,d}\"\n",
    "        elif num_dig > 2:\n",
    "            return f\"{num_in:2.1f}\"\n",
    "        elif num_dig > 1:\n",
    "            return f\"{num_in:2.2f}\"\n",
    "        return f\"{num_in:1.3f}\"\n",
    "    except ValueError:\n",
    "        return str(num_in)\n",
    "\n",
    "for i in range(-1, 4):\n",
    "    print(latex_format(4.176234*10**i))"
   ]
  },
  {
   "cell_type": "markdown",
   "metadata": {
    "heading_collapsed": true
   },
   "source": [
    "# Panel A: Summary Stats"
   ]
  },
  {
   "cell_type": "code",
   "execution_count": null,
   "metadata": {
    "hidden": true
   },
   "outputs": [],
   "source": [
    "df = CompustatAnnual.data\n",
    "\n",
    "print(f\"Length: {len(df):,d}\")"
   ]
  },
  {
   "cell_type": "code",
   "execution_count": null,
   "metadata": {
    "hidden": true
   },
   "outputs": [],
   "source": [
    "sA = (df['log_at mve'.split()]\n",
    "      .describe(percentiles=describe_pctiles)\n",
    "      .T\n",
    "      [describe_cols]\n",
    "      .rename(columns=rename_dict)\n",
    ")\n",
    "sA"
   ]
  },
  {
   "cell_type": "code",
   "execution_count": null,
   "metadata": {
    "hidden": true
   },
   "outputs": [],
   "source": [
    "tex = sA.to_latex(na_rep='', formatters=[latex_format]*len(sA.columns))\n",
    "tex = tex.replace(r'\\toprule', r'\\toprule \\multicolumn{9}{c}{\\textit{Panel A}: Summary Stats} \\\\ \\midrule')\n",
    "if WRITEOUT:\n",
    "    for _folder in (config.TABLE_DIR, config.TABLE_DIR_OVERLEAF):\n",
    "        fp = os.path.join(_folder, 'summary_stats_panel_A.tex')\n",
    "        print(f\"Wrote: {fp}\")\n",
    "        with open(fp, 'w') as fh:\n",
    "            fh.write(tex)\n",
    "print('\\n', tex)"
   ]
  }
 ],
 "metadata": {
  "kernelspec": {
   "display_name": "Python 3",
   "language": "python",
   "name": "python3"
  },
  "language_info": {
   "codemirror_mode": {
    "name": "ipython",
    "version": 3
   },
   "file_extension": ".py",
   "mimetype": "text/x-python",
   "name": "python",
   "nbconvert_exporter": "python",
   "pygments_lexer": "ipython3",
   "version": "3.9.4"
  },
  "toc": {
   "base_numbering": 1,
   "nav_menu": {},
   "number_sections": true,
   "sideBar": true,
   "skip_h1_title": false,
   "title_cell": "Table of Contents",
   "title_sidebar": "Contents",
   "toc_cell": false,
   "toc_position": {},
   "toc_section_display": true,
   "toc_window_display": true
  }
 },
 "nbformat": 4,
 "nbformat_minor": 5
}